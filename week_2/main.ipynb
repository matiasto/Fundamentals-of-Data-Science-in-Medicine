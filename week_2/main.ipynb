{
 "cells": [
  {
   "cell_type": "markdown",
   "id": "f64943cf-7525-4a2a-a2fe-ad6496ccd3a2",
   "metadata": {},
   "source": [
    "# MAM02 - Week 2\n",
    "*Authors*: Robin & Matias\n",
    "\n",
    "*Status*: Draft\n",
    "\n",
    "*Date*: 8.10.2024"
   ]
  },
  {
   "cell_type": "markdown",
   "id": "717c83d5-4e43-46b4-9d80-e98deeb142a4",
   "metadata": {},
   "source": [
    "## Introduction\n",
    "\n",
    "In this analysis, we aim to investigate the association between 20 risk factors and the occurrence of cardiovascular disease (CVD) events in patients with familial hypercholesterolemia (FH)."
   ]
  },
  {
   "cell_type": "code",
   "execution_count": 2,
   "id": "d19ec880-0bc9-4220-9d3b-c7aa7095d8e3",
   "metadata": {},
   "outputs": [
    {
     "name": "stdout",
     "output_type": "stream",
     "text": [
      "      sex  height  weight        bmi alcoholuse smoking  systbp  diasbp  \\\n",
      "0  female   174.0    77.0  25.432686         no    Ever   140.0    95.0   \n",
      "1    male   179.0    65.0  20.286508        yes    Ever   140.0    95.0   \n",
      "2    male   183.0    85.0  25.381469        yes    Ever   130.0    85.0   \n",
      "3  female   169.0    63.0  22.058051        yes    Ever   130.0    75.0   \n",
      "4    male   176.0    88.0  28.409091        yes   Never   120.0    80.0   \n",
      "\n",
      "  hypertension  Glucose  ...  diabetes familiarHC     Tc   HDL    Tg    Lpa  \\\n",
      "0          yes      4.7  ...      ever        yes  11.22  1.00  1.40    NaN   \n",
      "1           no      4.5  ...      ever         no  11.50  1.04  0.81  740.0   \n",
      "2           no      4.7  ...      ever         no  11.36  1.64  1.67    NaN   \n",
      "3           no      4.6  ...      ever         no  10.21  1.07  1.18    NaN   \n",
      "4           no      5.4  ...      ever         no  10.09  1.69  1.01    NaN   \n",
      "\n",
      "   homocysteine  creatinine        age  event  \n",
      "0          12.1        75.0  65.916496   none  \n",
      "1           NaN        66.0  31.115674    yes  \n",
      "2           NaN        79.0  47.791923    yes  \n",
      "3           NaN        58.0  65.672827   none  \n",
      "4           NaN        63.0  42.318960   none  \n",
      "\n",
      "[5 rows x 21 columns]\n",
      "<class 'pandas.core.frame.DataFrame'>\n",
      "RangeIndex: 2400 entries, 0 to 2399\n",
      "Data columns (total 21 columns):\n",
      " #   Column        Non-Null Count  Dtype   \n",
      "---  ------        --------------  -----   \n",
      " 0   sex           2400 non-null   category\n",
      " 1   height        2080 non-null   float64 \n",
      " 2   weight        2195 non-null   float64 \n",
      " 3   bmi           2058 non-null   float64 \n",
      " 4   alcoholuse    1909 non-null   category\n",
      " 5   smoking       2166 non-null   category\n",
      " 6   systbp        2363 non-null   float64 \n",
      " 7   diasbp        2363 non-null   float64 \n",
      " 8   hypertension  2376 non-null   category\n",
      " 9   Glucose       2282 non-null   float64 \n",
      " 10  Hba1c         1470 non-null   float64 \n",
      " 11  diabetes      2400 non-null   category\n",
      " 12  familiarHC    2400 non-null   category\n",
      " 13  Tc            2152 non-null   float64 \n",
      " 14  HDL           1960 non-null   float64 \n",
      " 15  Tg            2026 non-null   float64 \n",
      " 16  Lpa           1698 non-null   float64 \n",
      " 17  homocysteine  1094 non-null   float64 \n",
      " 18  creatinine    2329 non-null   float64 \n",
      " 19  age           2400 non-null   float64 \n",
      " 20  event         2400 non-null   category\n",
      "dtypes: category(7), float64(14)\n",
      "memory usage: 279.9 KB\n",
      "None\n",
      "            height       weight          bmi       systbp       diasbp  \\\n",
      "count  2080.000000  2195.000000  2058.000000  2363.000000  2363.000000   \n",
      "mean    172.467308    74.933030    25.111342   135.003386    81.913246   \n",
      "std       9.304474    13.372804     3.576671    19.458503    10.516614   \n",
      "min     145.000000    41.000000    -1.000000    80.000000    30.000000   \n",
      "25%     165.000000    65.000000    22.724403   120.000000    75.000000   \n",
      "50%     172.000000    74.000000    24.751459   130.000000    80.000000   \n",
      "75%     179.000000    83.000000    27.143037   145.000000    90.000000   \n",
      "max     202.000000   155.000000    47.194008   225.000000   140.000000   \n",
      "\n",
      "           Glucose        Hba1c           Tc          HDL           Tg  \\\n",
      "count  2282.000000  1470.000000  2152.000000  1960.000000  2026.000000   \n",
      "mean      5.079251     5.787830     9.534693     1.210087     1.804919   \n",
      "std       1.020495     1.236499     2.002673     0.354308     1.029021   \n",
      "min       2.800000     2.400000     3.530000     0.360000     0.360000   \n",
      "25%       4.500000     5.100000     8.107500     0.977500     1.100000   \n",
      "50%       4.900000     5.500000     9.200000     1.160000     1.580000   \n",
      "75%       5.400000     6.100000    10.600000     1.400000     2.200000   \n",
      "max      19.400000    16.500000    18.300000     3.950000    10.810000   \n",
      "\n",
      "               Lpa  homocysteine   creatinine          age  \n",
      "count  1698.000000   1094.000000  2329.000000  2400.000000  \n",
      "mean    337.916372     12.445899    81.271790    47.067383  \n",
      "std     418.173833      8.867317    15.524963    12.184997  \n",
      "min       4.000000      4.000000    37.000000    18.061602  \n",
      "25%      60.000000      9.000000    71.000000    37.930185  \n",
      "50%     166.000000     11.000000    80.000000    46.238193  \n",
      "75%     470.750000     13.800000    90.000000    55.542779  \n",
      "max    3381.000000    215.000000   191.000000    85.809719  \n"
     ]
    }
   ],
   "source": [
    "import pandas as pd\n",
    "\n",
    "# Load the given data file\n",
    "data = pd.read_spss(\"GIRAFH.SAV\")\n",
    "\n",
    "# Some general data descriptions\n",
    "print(data.head())\n",
    "print(data.info())\n",
    "print(data.describe())"
   ]
  },
  {
   "cell_type": "code",
   "execution_count": 3,
   "id": "be476ae9-8515-4e77-989e-dfaa004686f5",
   "metadata": {},
   "outputs": [
    {
     "name": "stdout",
     "output_type": "stream",
     "text": [
      "sex                0\n",
      "height           320\n",
      "weight           205\n",
      "bmi              342\n",
      "alcoholuse       491\n",
      "smoking          234\n",
      "systbp            37\n",
      "diasbp            37\n",
      "hypertension      24\n",
      "Glucose          118\n",
      "Hba1c            930\n",
      "diabetes           0\n",
      "familiarHC         0\n",
      "Tc               248\n",
      "HDL              440\n",
      "Tg               374\n",
      "Lpa              702\n",
      "homocysteine    1306\n",
      "creatinine        71\n",
      "age                0\n",
      "event              0\n",
      "dtype: int64\n"
     ]
    }
   ],
   "source": [
    "# Check for missing values\n",
    "missing_values = data.isnull().sum()\n",
    "print(missing_values)"
   ]
  },
  {
   "cell_type": "markdown",
   "id": "a4dc6163-8d31-4d1b-97fc-c8f03e5a5601",
   "metadata": {},
   "source": []
  }
 ],
 "metadata": {
  "kernelspec": {
   "display_name": "Python 3 (ipykernel)",
   "language": "python",
   "name": "python3"
  },
  "language_info": {
   "codemirror_mode": {
    "name": "ipython",
    "version": 3
   },
   "file_extension": ".py",
   "mimetype": "text/x-python",
   "name": "python",
   "nbconvert_exporter": "python",
   "pygments_lexer": "ipython3",
   "version": "3.12.6"
  }
 },
 "nbformat": 4,
 "nbformat_minor": 5
}
