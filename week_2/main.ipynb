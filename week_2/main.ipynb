{
 "cells": [
  {
   "cell_type": "markdown",
   "id": "f64943cf-7525-4a2a-a2fe-ad6496ccd3a2",
   "metadata": {},
   "source": [
    "# MAM02 - Week 2\n",
    "*Authors*: Robin & Matias\n",
    "\n",
    "*Status*: Draft\n",
    "\n",
    "*Date*: 8.10.2024"
   ]
  },
  {
   "cell_type": "markdown",
   "id": "717c83d5-4e43-46b4-9d80-e98deeb142a4",
   "metadata": {},
   "source": [
    "## Introduction\n",
    "\n",
    "In this analysis, we aim to investigate the association between 20 risk factors and the occurrence of cardiovascular disease (CVD) events in patients with familial hypercholesterolemia (FH)."
   ]
  },
  {
   "cell_type": "code",
   "execution_count": 28,
   "id": "d19ec880-0bc9-4220-9d3b-c7aa7095d8e3",
   "metadata": {},
   "outputs": [
    {
     "name": "stdout",
     "output_type": "stream",
     "text": [
      "      sex  height  weight        bmi alcoholuse smoking  systbp  diasbp  \\\n",
      "0  female   174.0    77.0  25.432686         no    Ever   140.0    95.0   \n",
      "1    male   179.0    65.0  20.286508        yes    Ever   140.0    95.0   \n",
      "2    male   183.0    85.0  25.381469        yes    Ever   130.0    85.0   \n",
      "3  female   169.0    63.0  22.058051        yes    Ever   130.0    75.0   \n",
      "4    male   176.0    88.0  28.409091        yes   Never   120.0    80.0   \n",
      "\n",
      "  hypertension  Glucose  ...  diabetes familiarHC     Tc   HDL    Tg    Lpa  \\\n",
      "0          yes      4.7  ...      ever        yes  11.22  1.00  1.40    NaN   \n",
      "1           no      4.5  ...      ever         no  11.50  1.04  0.81  740.0   \n",
      "2           no      4.7  ...      ever         no  11.36  1.64  1.67    NaN   \n",
      "3           no      4.6  ...      ever         no  10.21  1.07  1.18    NaN   \n",
      "4           no      5.4  ...      ever         no  10.09  1.69  1.01    NaN   \n",
      "\n",
      "   homocysteine  creatinine        age  event  \n",
      "0          12.1        75.0  65.916496   none  \n",
      "1           NaN        66.0  31.115674    yes  \n",
      "2           NaN        79.0  47.791923    yes  \n",
      "3           NaN        58.0  65.672827   none  \n",
      "4           NaN        63.0  42.318960   none  \n",
      "\n",
      "[5 rows x 21 columns]\n",
      "<class 'pandas.core.frame.DataFrame'>\n",
      "RangeIndex: 2400 entries, 0 to 2399\n",
      "Data columns (total 21 columns):\n",
      " #   Column        Non-Null Count  Dtype   \n",
      "---  ------        --------------  -----   \n",
      " 0   sex           2400 non-null   category\n",
      " 1   height        2080 non-null   float64 \n",
      " 2   weight        2195 non-null   float64 \n",
      " 3   bmi           2058 non-null   float64 \n",
      " 4   alcoholuse    1909 non-null   category\n",
      " 5   smoking       2166 non-null   category\n",
      " 6   systbp        2363 non-null   float64 \n",
      " 7   diasbp        2363 non-null   float64 \n",
      " 8   hypertension  2376 non-null   category\n",
      " 9   Glucose       2282 non-null   float64 \n",
      " 10  Hba1c         1470 non-null   float64 \n",
      " 11  diabetes      2400 non-null   category\n",
      " 12  familiarHC    2400 non-null   category\n",
      " 13  Tc            2152 non-null   float64 \n",
      " 14  HDL           1960 non-null   float64 \n",
      " 15  Tg            2026 non-null   float64 \n",
      " 16  Lpa           1698 non-null   float64 \n",
      " 17  homocysteine  1094 non-null   float64 \n",
      " 18  creatinine    2329 non-null   float64 \n",
      " 19  age           2400 non-null   float64 \n",
      " 20  event         2400 non-null   category\n",
      "dtypes: category(7), float64(14)\n",
      "memory usage: 279.9 KB\n",
      "None\n",
      "            height       weight          bmi       systbp       diasbp  \\\n",
      "count  2080.000000  2195.000000  2058.000000  2363.000000  2363.000000   \n",
      "mean    172.467308    74.933030    25.111342   135.003386    81.913246   \n",
      "std       9.304474    13.372804     3.576671    19.458503    10.516614   \n",
      "min     145.000000    41.000000    -1.000000    80.000000    30.000000   \n",
      "25%     165.000000    65.000000    22.724403   120.000000    75.000000   \n",
      "50%     172.000000    74.000000    24.751459   130.000000    80.000000   \n",
      "75%     179.000000    83.000000    27.143037   145.000000    90.000000   \n",
      "max     202.000000   155.000000    47.194008   225.000000   140.000000   \n",
      "\n",
      "           Glucose        Hba1c           Tc          HDL           Tg  \\\n",
      "count  2282.000000  1470.000000  2152.000000  1960.000000  2026.000000   \n",
      "mean      5.079251     5.787830     9.534693     1.210087     1.804919   \n",
      "std       1.020495     1.236499     2.002673     0.354308     1.029021   \n",
      "min       2.800000     2.400000     3.530000     0.360000     0.360000   \n",
      "25%       4.500000     5.100000     8.107500     0.977500     1.100000   \n",
      "50%       4.900000     5.500000     9.200000     1.160000     1.580000   \n",
      "75%       5.400000     6.100000    10.600000     1.400000     2.200000   \n",
      "max      19.400000    16.500000    18.300000     3.950000    10.810000   \n",
      "\n",
      "               Lpa  homocysteine   creatinine          age  \n",
      "count  1698.000000   1094.000000  2329.000000  2400.000000  \n",
      "mean    337.916372     12.445899    81.271790    47.067383  \n",
      "std     418.173833      8.867317    15.524963    12.184997  \n",
      "min       4.000000      4.000000    37.000000    18.061602  \n",
      "25%      60.000000      9.000000    71.000000    37.930185  \n",
      "50%     166.000000     11.000000    80.000000    46.238193  \n",
      "75%     470.750000     13.800000    90.000000    55.542779  \n",
      "max    3381.000000    215.000000   191.000000    85.809719  \n"
     ]
    }
   ],
   "source": [
    "import pandas as pd\n",
    "\n",
    "# Load the given data file\n",
    "data = pd.read_spss(\"GIRAFH.SAV\")\n",
    "\n",
    "# Some general data descriptions\n",
    "print(data.head())\n",
    "print(data.info())\n",
    "print(data.describe())"
   ]
  },
  {
   "cell_type": "code",
   "execution_count": 27,
   "id": "be476ae9-8515-4e77-989e-dfaa004686f5",
   "metadata": {},
   "outputs": [
    {
     "name": "stdout",
     "output_type": "stream",
     "text": [
      "sex             0\n",
      "height          0\n",
      "weight          0\n",
      "bmi             0\n",
      "alcoholuse      0\n",
      "smoking         0\n",
      "systbp          0\n",
      "diasbp          0\n",
      "hypertension    0\n",
      "Glucose         0\n",
      "Hba1c           0\n",
      "diabetes        0\n",
      "familiarHC      0\n",
      "Tc              0\n",
      "HDL             0\n",
      "Tg              0\n",
      "Lpa             0\n",
      "homocysteine    0\n",
      "creatinine      0\n",
      "age             0\n",
      "event           0\n",
      "event_binary    0\n",
      "dtype: int64\n"
     ]
    }
   ],
   "source": [
    "# Check for missing values\n",
    "missing_values = data.isnull().sum()\n",
    "print(missing_values)"
   ]
  },
  {
   "cell_type": "markdown",
   "id": "a4dc6163-8d31-4d1b-97fc-c8f03e5a5601",
   "metadata": {},
   "source": [
    "## Handling Missing Data\n",
    "\n",
    "*Discarding Missing Values* can lead to losing essential information, especially if missingness is not completely random.\n",
    "*Multiple Imputation* preserves the dataset's size by filling in the missing values based on other available data\n",
    "\n",
    "*Chosen Method*: Multiple Imputation\n",
    "\n",
    "*Rationale*: Given the size of the dataset (2,400 patients) and the potential loss of information, we choose multiple imputation to handle missing values. We believe this method allows us to use all available data better and reduce the bias that might result from simply discarding missing values."
   ]
  },
  {
   "cell_type": "code",
   "execution_count": 14,
   "id": "2fccb7d4-985f-40df-9743-6fb7521477c3",
   "metadata": {},
   "outputs": [],
   "source": [
    "from sklearn.impute import SimpleImputer\n",
    "\n",
    "imputer_mean = SimpleImputer(strategy='mean')\n",
    "imputer_freq = SimpleImputer(strategy='most_frequent')\n",
    "\n",
    "continuous_vars = ['height', 'weight', 'bmi', 'systbp', 'diasbp', 'Glucose', 'Hba1c', 'Tc', 'HDL', 'Tg', 'Lpa', 'homocysteine', 'creatinine', 'age']\n",
    "categorical_vars = ['sex', 'alcoholuse', 'smoking', 'hypertension', 'diabetes', 'familiarHC', 'event']\n",
    "\n",
    "data[continuous_vars] = imputer_mean.fit_transform(data[continuous_vars])\n",
    "\n",
    "data[categorical_vars] = imputer_freq.fit_transform(data[categorical_vars])"
   ]
  },
  {
   "cell_type": "code",
   "execution_count": 15,
   "id": "d8232be7-fc3a-48e6-a86d-ce2e8e6f74ec",
   "metadata": {},
   "outputs": [
    {
     "name": "stdout",
     "output_type": "stream",
     "text": [
      "sex             0\n",
      "height          0\n",
      "weight          0\n",
      "bmi             0\n",
      "alcoholuse      0\n",
      "smoking         0\n",
      "systbp          0\n",
      "diasbp          0\n",
      "hypertension    0\n",
      "Glucose         0\n",
      "Hba1c           0\n",
      "diabetes        0\n",
      "familiarHC      0\n",
      "Tc              0\n",
      "HDL             0\n",
      "Tg              0\n",
      "Lpa             0\n",
      "homocysteine    0\n",
      "creatinine      0\n",
      "age             0\n",
      "event           0\n",
      "dtype: int64\n"
     ]
    }
   ],
   "source": [
    "missing_values = data.isnull().sum()\n",
    "print(missing_values)"
   ]
  },
  {
   "cell_type": "markdown",
   "id": "a8509084-f109-4177-9f9a-ad2ec72b672d",
   "metadata": {},
   "source": [
    "## Descriptive Statistics\n",
    "\n",
    "Compare the means of continuous variables between the event and no-event groups using t-tests to identify significant differences."
   ]
  },
  {
   "cell_type": "code",
   "execution_count": 19,
   "id": "551eed36-1be7-4726-8dbb-0a987af516cc",
   "metadata": {},
   "outputs": [
    {
     "name": "stdout",
     "output_type": "stream",
     "text": [
      "        Variable  Event Mean  No Event Mean       P-Value\n",
      "0         height  172.340862     172.528421  6.191569e-01\n",
      "1         weight   76.434827      74.207192  6.203391e-05\n",
      "2            bmi   25.631893      24.859753  7.984809e-08\n",
      "3         systbp  138.245550     133.436406  9.645333e-09\n",
      "4         diasbp   83.395754      81.196731  1.241415e-06\n",
      "5        Glucose    5.321026       4.962398  7.917314e-17\n",
      "6          Hba1c    5.972410       5.698620  6.852495e-11\n",
      "7             Tc    9.668917       9.469821  1.589363e-02\n",
      "8            HDL    1.160368       1.234116  1.141435e-07\n",
      "9             Tg    2.005692       1.707883  3.584563e-13\n",
      "10           Lpa  407.589526     304.242450  1.226179e-11\n",
      "11  homocysteine   13.153659      12.103829  5.508880e-05\n",
      "12    creatinine   84.471159      79.725495  8.022937e-13\n",
      "13           age   48.419700      46.413791  1.541438e-04\n"
     ]
    }
   ],
   "source": [
    "from scipy.stats import ttest_ind\n",
    "\n",
    "\n",
    "event_data = data[data['event'] == 'yes']\n",
    "no_event_data = data[data['event'] == 'none']\n",
    "\n",
    "def create_summary_table(var_list):\n",
    "    # Initialize an empty list to store rows\n",
    "    rows = []\n",
    "    for var in var_list:\n",
    "        event_mean = event_data[var].mean()\n",
    "        no_event_mean = no_event_data[var].mean()\n",
    "        #  t-test\n",
    "        t_stat, p_val = ttest_ind(event_data[var], no_event_data[var], nan_policy='omit')\n",
    "\n",
    "        row = {'Variable': var,\n",
    "               'Event Mean': event_mean,\n",
    "               'No Event Mean': no_event_mean,\n",
    "               'P-Value': p_val}\n",
    "\n",
    "        rows.append(row)\n",
    "\n",
    "    summary_table = pd.DataFrame(rows)\n",
    "    return summary_table\n",
    "\n",
    "# Generate summary table for continuous variables\n",
    "summary_continuous = create_summary_table(continuous_vars)\n",
    "\n",
    "# Display the table\n",
    "print(summary_continuous)\n",
    "\n"
   ]
  },
  {
   "cell_type": "markdown",
   "id": "d70bd081-dd25-4507-9ed9-9f96acc04beb",
   "metadata": {},
   "source": [
    "For categorical variables, we use chi-squared tests to compare the proportions between the two groups."
   ]
  },
  {
   "cell_type": "code",
   "execution_count": 22,
   "id": "e2837d6b-c613-49a4-bb05-f7f912c0cfd5",
   "metadata": {},
   "outputs": [
    {
     "name": "stdout",
     "output_type": "stream",
     "text": [
      "       Variable                                   Event Proportion  \\\n",
      "0           sex  {'male': 0.6227621483375959, 'female': 0.37723...   \n",
      "1    alcoholuse  {'yes': 0.7864450127877238, 'no': 0.2135549872...   \n",
      "2       smoking  {'Ever': 0.8414322250639387, 'Never': 0.158567...   \n",
      "3  hypertension  {'no': 0.8286445012787724, 'yes': 0.1713554987...   \n",
      "4      diabetes  {'ever': 0.8887468030690537, 'never': 0.111253...   \n",
      "5    familiarHC  {'no': 0.840153452685422, 'yes': 0.15984654731...   \n",
      "6         event                                       {'yes': 1.0}   \n",
      "\n",
      "                                 No Event Proportion       P-Value  \n",
      "0  {'female': 0.5716934487021014, 'male': 0.42830...  6.255881e-19  \n",
      "1  {'yes': 0.7966625463535228, 'no': 0.2033374536...  5.991600e-01  \n",
      "2  {'Ever': 0.7255871446229913, 'Never': 0.274412...  5.406920e-10  \n",
      "3  {'no': 0.9406674907292955, 'yes': 0.0593325092...  4.554371e-18  \n",
      "4  {'ever': 0.9684796044499382, 'never': 0.031520...  7.813679e-15  \n",
      "5  {'no': 0.7663782447466008, 'yes': 0.2336217552...  3.984244e-05  \n",
      "6                                      {'none': 1.0}  0.000000e+00  \n"
     ]
    }
   ],
   "source": [
    "from scipy.stats import chi2_contingency\n",
    "\n",
    "\n",
    "def create_categorical_summary(var_list):\n",
    "    rows = []\n",
    "    for var in var_list:\n",
    "        event_counts = event_data[var].value_counts(normalize=True)\n",
    "        no_event_counts = no_event_data[var].value_counts(normalize=True)\n",
    "\n",
    "        from scipy.stats import chi2_contingency\n",
    "        contingency_table = pd.crosstab(data[var], data['event'])\n",
    "        chi2, p_val, dof, ex = chi2_contingency(contingency_table)\n",
    "\n",
    "        row = {'Variable': var,\n",
    "               'Event Proportion': event_counts.to_dict(),\n",
    "               'No Event Proportion': no_event_counts.to_dict(),\n",
    "               'P-Value': p_val}\n",
    "        rows.append(row)\n",
    "\n",
    "    summary_table = pd.DataFrame(rows)\n",
    "    return summary_table\n",
    "\n",
    "\n",
    "summary_categorical = create_categorical_summary(categorical_vars)\n",
    "\n",
    "\n",
    "print(summary_categorical)\n"
   ]
  },
  {
   "cell_type": "markdown",
   "id": "c53bf0c3-74cf-4aff-8e92-ce9c037e8835",
   "metadata": {},
   "source": [
    "## Univariate Logistic Regression Analyses\n",
    "\n",
    "#### Performing Univariate Analyses"
   ]
  },
  {
   "cell_type": "code",
   "execution_count": null,
   "id": "ddf5b7e0-1b82-43b4-93de-49538f51973f",
   "metadata": {},
   "outputs": [],
   "source": []
  }
 ],
 "metadata": {
  "kernelspec": {
   "display_name": "Python 3 (ipykernel)",
   "language": "python",
   "name": "python3"
  },
  "language_info": {
   "codemirror_mode": {
    "name": "ipython",
    "version": 3
   },
   "file_extension": ".py",
   "mimetype": "text/x-python",
   "name": "python",
   "nbconvert_exporter": "python",
   "pygments_lexer": "ipython3",
   "version": "3.12.6"
  }
 },
 "nbformat": 4,
 "nbformat_minor": 5
}
